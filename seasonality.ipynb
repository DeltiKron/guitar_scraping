{
 "cells": [
  {
   "cell_type": "code",
   "execution_count": 1,
   "id": "1d24eade-943f-4deb-8ccf-3fb04093123e",
   "metadata": {},
   "outputs": [],
   "source": [
    "from guitar_scraping.questions import *\n",
    "import pandas as pd"
   ]
  },
  {
   "cell_type": "code",
   "execution_count": 4,
   "id": "5b63c576-7d82-44aa-b7ae-98cf160cc5ed",
   "metadata": {},
   "outputs": [
    {
     "name": "stdout",
     "output_type": "stream",
     "text": [
      "<class 'pandas.core.frame.DataFrame'>\n",
      "RangeIndex: 273294 entries, 0 to 273293\n",
      "Data columns (total 3 columns):\n",
      " #   Column         Non-Null Count   Dtype         \n",
      "---  ------         --------------   -----         \n",
      " 0   artikelnummer  273294 non-null  float64       \n",
      " 1   date           273294 non-null  datetime64[ns]\n",
      " 2   preis          273294 non-null  float64       \n",
      "dtypes: datetime64[ns](1), float64(2)\n",
      "memory usage: 6.3 MB\n"
     ]
    }
   ],
   "source": [
    "df = seasonality_base_data()\n",
    "df.info()"
   ]
  },
  {
   "cell_type": "code",
   "execution_count": 9,
   "id": "1643bb9b-2706-4716-9194-98b00bd9b3b4",
   "metadata": {},
   "outputs": [
    {
     "data": {
      "text/plain": [
       "49.3"
      ]
     },
     "metadata": {},
     "output_type": "display_data"
    },
    {
     "data": {
      "text/plain": [
       "9999.0"
      ]
     },
     "metadata": {},
     "output_type": "display_data"
    },
    {
     "data": {
      "image/png": "[encoded data removed]",
      "text/plain": [
       "<Figure size 432x288 with 1 Axes>"
      ]
     },
     "metadata": {
      "needs_background": "light"
     },
     "output_type": "display_data"
    }
   ],
   "source": [
    "df.preis.plot.hist()\n",
    "display(df.preis.min())\n",
    "display(df.preis.max())"
   ]
  },
  {
   "cell_type": "code",
   "execution_count": 17,
   "id": "1711ef43-9066-4787-81b2-02075c8dcf2c",
   "metadata": {},
   "outputs": [],
   "source": [
    "# Generate analysis DF\n",
    "df['year'] = df.date.dt.year\n",
    "df['month'] = df.date.dt.month\n",
    "\n",
    "mean_price = df.groupby(['artikelnummer','year']).preis.mean()\n",
    "mean_price_december = df[df.month==12].groupby(['artikelnummer','year']).preis.mean()"
   ]
  },
  {
   "cell_type": "code",
   "execution_count": 43,
   "id": "4fadbf98-bcf7-4384-83cc-9ad2e2443754",
   "metadata": {},
   "outputs": [
    {
     "name": "stdout",
     "output_type": "stream",
     "text": [
      "<class 'pandas.core.frame.DataFrame'>\n",
      "MultiIndex: 3823 entries, (107905.0, 2019) to (510432.0, 2021)\n",
      "Data columns (total 2 columns):\n",
      " #   Column               Non-Null Count  Dtype  \n",
      "---  ------               --------------  -----  \n",
      " 0   mean_price           3823 non-null   float64\n",
      " 1   mean_price_december  2107 non-null   float64\n",
      "dtypes: float64(2)\n",
      "memory usage: 154.7 KB\n"
     ]
    }
   ],
   "source": [
    "\n",
    "ana_df = pd.DataFrame({'mean_price':mean_price, 'mean_price_december':mean_price_december})\n",
    "ana_df.info()\n",
    "\n",
    "plot_args = dict(\n",
    "    alpha=.5,\n",
    ")\n",
    "\n",
    "ana_df['price_difference'] = ana_df.mean_price - ana_df.mean_price_december\n",
    "ana_df['price_difference_pct'] = ana_df.price_difference / ana_df.mean_price * 100\n",
    "\n"
   ]
  },
  {
   "cell_type": "code",
   "execution_count": 44,
   "id": "db1ad043-d2d8-424a-b9ed-8ff974c10ebd",
   "metadata": {},
   "outputs": [
    {
     "data": {
      "text/plain": [
       "<AxesSubplot:ylabel='Frequency'>"
      ]
     },
     "execution_count": 44,
     "metadata": {},
     "output_type": "execute_result"
    },
    {
     "data": {
      "image/png": "[encoded data removed]",
      "text/plain": [
       "<Figure size 720x432 with 1 Axes>"
      ]
     },
     "metadata": {
      "needs_background": "light"
     },
     "output_type": "display_data"
    }
   ],
   "source": [
    "import matplotlib.pyplot as plt\n",
    "fig = plt.figure(figsize=(10,6))\n",
    "\n",
    "\n",
    "ana_df.price_difference_pct.plot.hist(bins=50)"
   ]
  },
  {
   "cell_type": "code",
   "execution_count": 54,
   "id": "2699e14d-80bb-4567-93f1-6d1b7eddf418",
   "metadata": {},
   "outputs": [],
   "source": [
    "import numpy as np\n",
    "bootstrapped_means = np.array([ ana_df.price_difference_pct.sample(50).mean() for i in range(50000)])"
   ]
  },
  {
   "cell_type": "code",
   "execution_count": 55,
   "id": "ef1d987a-9975-400e-aa15-0ab13b4dfb07",
   "metadata": {},
   "outputs": [
    {
     "data": {
      "text/plain": [
       "-2.2575080084000447"
      ]
     },
     "metadata": {},
     "output_type": "display_data"
    },
    {
     "name": "stdout",
     "output_type": "stream",
     "text": [
      "<class 'pandas.core.frame.DataFrame'>\n",
      "MultiIndex: 3823 entries, (107905.0, 2019) to (510432.0, 2021)\n",
      "Data columns (total 4 columns):\n",
      " #   Column                Non-Null Count  Dtype  \n",
      "---  ------                --------------  -----  \n",
      " 0   mean_price            3823 non-null   float64\n",
      " 1   mean_price_december   2107 non-null   float64\n",
      " 2   price_difference      2107 non-null   float64\n",
      " 3   price_difference_pct  2107 non-null   float64\n",
      "dtypes: float64(4)\n",
      "memory usage: 214.4 KB\n"
     ]
    },
    {
     "data": {
      "image/png": "[encoded data removed]",
      "text/plain": [
       "<Figure size 432x288 with 1 Axes>"
      ]
     },
     "metadata": {
      "needs_background": "light"
     },
     "output_type": "display_data"
    }
   ],
   "source": [
    "plt.hist(bootstrapped_means, bins=50)\n",
    "display(bootstrapped_means.min())\n",
    "\n",
    "ana_df.info()"
   ]
  },
  {
   "cell_type": "code",
   "execution_count": 57,
   "id": "69c49b5e-a587-49b2-bb25-bfbe9f2fbb52",
   "metadata": {},
   "outputs": [
    {
     "data": {
      "text/plain": [
       "F_onewayResult(statistic=1.2423640842681183, pvalue=0.2650212807205494)"
      ]
     },
     "execution_count": 57,
     "metadata": {},
     "output_type": "execute_result"
    }
   ],
   "source": [
    "import scipy.stats as stats\n",
    "stats.f_oneway([0],bootstrapped_means)\n",
    "\n"
   ]
  }
 ],
 "metadata": {
  "kernelspec": {
   "display_name": "nlp",
   "language": "python",
   "name": "nlp"
  },
  "language_info": {
   "codemirror_mode": {
    "name": "ipython",
    "version": 3
   },
   "file_extension": ".py",
   "mimetype": "text/x-python",
   "name": "python",
   "nbconvert_exporter": "python",
   "pygments_lexer": "ipython3",
   "version": "3.10.0"
  }
 },
 "nbformat": 4,
 "nbformat_minor": 5
}
