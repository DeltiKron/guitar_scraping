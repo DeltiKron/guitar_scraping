{
 "cells": [
  {
   "cell_type": "code",
   "execution_count": 1,
   "metadata": {},
   "outputs": [],
   "source": [
    "import sqlalchemy as sa\n",
    "import pandas as pd\n",
    "_db = 'sqlite:///guitar_listings.db'\n",
    "engine = sa.create_engine(_db)\n",
    "\n",
    "from sqlalchemy import inspect\n",
    "inspector = inspect(engine)\n",
    "\n",
    "for table_name in inspector.get_table_names():\n",
    "    print('*'*50,'\\n',table_name,'\\n','*'*50)\n",
    "    for column in inspector.get_columns(table_name):\n",
    "       print(\"Column: %s\" % column['name'])"
   ]
  },
  {
   "cell_type": "code",
   "execution_count": 2,
   "metadata": {},
   "outputs": [
    {
     "data": {
      "text/plain": [
       "<matplotlib.collections.LineCollection at 0x205b59b1190>"
      ]
     },
     "execution_count": 2,
     "metadata": {},
     "output_type": "execute_result"
    },
    {
     "data": {
      "image/png": "[encoded data removed]",
      "text/plain": [
       "<Figure size 864x576 with 1 Axes>"
      ]
     },
     "metadata": {
      "needs_background": "light"
     },
     "output_type": "display_data"
    }
   ],
   "source": [
    "from guitar_scraping.questions import sales_availability\n",
    "import matplotlib.pyplot as plt\n",
    "from datetime import datetime\n",
    "sales_avail_df = sales_availability()\n",
    "fig, ax = plt.subplots(figsize=(12,8))\n",
    "sales_avail_df.plot(ax = ax)\n",
    "ax.set_xlabel('Number of available listings')\n",
    "\n",
    "start_date = datetime(2020,2,1)\n",
    "end_date = datetime(2020,8,1)\n",
    "\n",
    "ax.vlines(start_date,0,5000)\n",
    "ax.vlines(end_date,0,5000)\n"
   ]
  },
  {
   "cell_type": "code",
   "execution_count": 3,
   "metadata": {},
   "outputs": [
    {
     "data": {
      "text/html": [
       "<div>\n",
       "<style scoped>\n",
       "    .dataframe tbody tr th:only-of-type {\n",
       "        vertical-align: middle;\n",
       "    }\n",
       "\n",
       "    .dataframe tbody tr th {\n",
       "        vertical-align: top;\n",
       "    }\n",
       "\n",
       "    .dataframe thead th {\n",
       "        text-align: right;\n",
       "    }\n",
       "</style>\n",
       "<table border=\"1\" class=\"dataframe\">\n",
       "  <thead>\n",
       "    <tr style=\"text-align: right;\">\n",
       "      <th>manufacturer</th>\n",
       "      <th>Gibson</th>\n",
       "      <th>Taylor</th>\n",
       "      <th>Yamaha</th>\n",
       "      <th>Harley Benton</th>\n",
       "      <th>Framus</th>\n",
       "      <th>Fender</th>\n",
       "      <th>Ibanez</th>\n",
       "      <th>Furch</th>\n",
       "      <th>Takamine</th>\n",
       "      <th>Guild</th>\n",
       "    </tr>\n",
       "    <tr>\n",
       "      <th>date</th>\n",
       "      <th></th>\n",
       "      <th></th>\n",
       "      <th></th>\n",
       "      <th></th>\n",
       "      <th></th>\n",
       "      <th></th>\n",
       "      <th></th>\n",
       "      <th></th>\n",
       "      <th></th>\n",
       "      <th></th>\n",
       "    </tr>\n",
       "  </thead>\n",
       "  <tbody>\n",
       "    <tr>\n",
       "      <th>2020-02-29</th>\n",
       "      <td>90.448276</td>\n",
       "      <td>84.241379</td>\n",
       "      <td>58.379310</td>\n",
       "      <td>41.724138</td>\n",
       "      <td>28.206897</td>\n",
       "      <td>31.241379</td>\n",
       "      <td>31.965517</td>\n",
       "      <td>29.586207</td>\n",
       "      <td>34.724138</td>\n",
       "      <td>27.517241</td>\n",
       "    </tr>\n",
       "    <tr>\n",
       "      <th>2020-03-31</th>\n",
       "      <td>84.516129</td>\n",
       "      <td>81.258065</td>\n",
       "      <td>50.806452</td>\n",
       "      <td>39.935484</td>\n",
       "      <td>23.161290</td>\n",
       "      <td>27.903226</td>\n",
       "      <td>32.709677</td>\n",
       "      <td>28.838710</td>\n",
       "      <td>31.645161</td>\n",
       "      <td>31.709677</td>\n",
       "    </tr>\n",
       "    <tr>\n",
       "      <th>2020-04-30</th>\n",
       "      <td>76.466667</td>\n",
       "      <td>78.166667</td>\n",
       "      <td>44.033333</td>\n",
       "      <td>38.166667</td>\n",
       "      <td>30.966667</td>\n",
       "      <td>24.500000</td>\n",
       "      <td>30.200000</td>\n",
       "      <td>28.400000</td>\n",
       "      <td>26.533333</td>\n",
       "      <td>29.166667</td>\n",
       "    </tr>\n",
       "    <tr>\n",
       "      <th>2020-05-31</th>\n",
       "      <td>72.870968</td>\n",
       "      <td>75.354839</td>\n",
       "      <td>47.677419</td>\n",
       "      <td>38.612903</td>\n",
       "      <td>46.354839</td>\n",
       "      <td>32.967742</td>\n",
       "      <td>30.645161</td>\n",
       "      <td>28.580645</td>\n",
       "      <td>25.774194</td>\n",
       "      <td>26.580645</td>\n",
       "    </tr>\n",
       "    <tr>\n",
       "      <th>2020-06-30</th>\n",
       "      <td>73.166667</td>\n",
       "      <td>64.000000</td>\n",
       "      <td>43.100000</td>\n",
       "      <td>35.766667</td>\n",
       "      <td>41.666667</td>\n",
       "      <td>32.300000</td>\n",
       "      <td>26.633333</td>\n",
       "      <td>30.100000</td>\n",
       "      <td>28.166667</td>\n",
       "      <td>26.433333</td>\n",
       "    </tr>\n",
       "  </tbody>\n",
       "</table>\n",
       "</div>"
      ],
      "text/plain": [
       "manufacturer     Gibson     Taylor     Yamaha  Harley Benton     Framus  \\\n",
       "date                                                                      \n",
       "2020-02-29    90.448276  84.241379  58.379310      41.724138  28.206897   \n",
       "2020-03-31    84.516129  81.258065  50.806452      39.935484  23.161290   \n",
       "2020-04-30    76.466667  78.166667  44.033333      38.166667  30.966667   \n",
       "2020-05-31    72.870968  75.354839  47.677419      38.612903  46.354839   \n",
       "2020-06-30    73.166667  64.000000  43.100000      35.766667  41.666667   \n",
       "\n",
       "manufacturer     Fender     Ibanez      Furch   Takamine      Guild  \n",
       "date                                                                 \n",
       "2020-02-29    31.241379  31.965517  29.586207  34.724138  27.517241  \n",
       "2020-03-31    27.903226  32.709677  28.838710  31.645161  31.709677  \n",
       "2020-04-30    24.500000  30.200000  28.400000  26.533333  29.166667  \n",
       "2020-05-31    32.967742  30.645161  28.580645  25.774194  26.580645  \n",
       "2020-06-30    32.300000  26.633333  30.100000  28.166667  26.433333  "
      ]
     },
     "execution_count": 3,
     "metadata": {},
     "output_type": "execute_result"
    }
   ],
   "source": [
    "from guitar_scraping.questions import daywise_manufacturer_count\n",
    "\n",
    "manu_count_df = daywise_manufacturer_count(start_date=start_date, end_date=end_date)\n",
    "most_listed = manu_count_df.sum().sort_values(ascending=False).index[:10]\n",
    "monthly_average= manu_count_df.resample('M').mean()\n",
    "\n",
    "daily_average= manu_count_df.resample('D').mean()\n",
    "most_listed_daily_average= daily_average.loc[:,most_listed]\n",
    "\n",
    "most_listed_monthly_average= monthly_average.loc[:,most_listed]\n",
    "most_listed_monthly_average.head()"
   ]
  },
  {
   "cell_type": "code",
   "execution_count": 4,
   "metadata": {},
   "outputs": [
    {
     "ename": "ModuleNotFoundError",
     "evalue": "No module named 'seaborn'",
     "output_type": "error",
     "traceback": [
      "\u001b[1;31m---------------------------------------------------------------------------\u001b[0m",
      "\u001b[1;31mModuleNotFoundError\u001b[0m                       Traceback (most recent call last)",
      "\u001b[1;32m<ipython-input-4-8216ee01e19b>\u001b[0m in \u001b[0;36m<module>\u001b[1;34m\u001b[0m\n\u001b[1;32m----> 1\u001b[1;33m \u001b[1;32mimport\u001b[0m \u001b[0mseaborn\u001b[0m \u001b[1;32mas\u001b[0m \u001b[0msns\u001b[0m\u001b[1;33m\u001b[0m\u001b[1;33m\u001b[0m\u001b[0m\n\u001b[0m\u001b[0;32m      2\u001b[0m \u001b[0mnormalized_for_plotting\u001b[0m \u001b[1;33m=\u001b[0m \u001b[0mmost_listed_monthly_average\u001b[0m\u001b[1;33m.\u001b[0m\u001b[0mdiv\u001b[0m\u001b[1;33m(\u001b[0m\u001b[0mmost_listed_monthly_average\u001b[0m\u001b[1;33m.\u001b[0m\u001b[0msum\u001b[0m\u001b[1;33m(\u001b[0m\u001b[0maxis\u001b[0m\u001b[1;33m=\u001b[0m\u001b[1;36m1\u001b[0m\u001b[1;33m)\u001b[0m\u001b[1;33m,\u001b[0m \u001b[0maxis\u001b[0m\u001b[1;33m=\u001b[0m\u001b[1;36m0\u001b[0m\u001b[1;33m)\u001b[0m\u001b[1;33m\u001b[0m\u001b[1;33m\u001b[0m\u001b[0m\n\u001b[0;32m      3\u001b[0m \u001b[0mfig\u001b[0m\u001b[1;33m,\u001b[0m \u001b[0maxes\u001b[0m \u001b[1;33m=\u001b[0m \u001b[0mplt\u001b[0m\u001b[1;33m.\u001b[0m\u001b[0msubplots\u001b[0m\u001b[1;33m(\u001b[0m\u001b[1;36m1\u001b[0m\u001b[1;33m,\u001b[0m\u001b[1;36m2\u001b[0m\u001b[1;33m,\u001b[0m\u001b[0mfigsize\u001b[0m\u001b[1;33m=\u001b[0m\u001b[1;33m(\u001b[0m\u001b[1;36m25\u001b[0m\u001b[1;33m,\u001b[0m\u001b[1;36m10\u001b[0m\u001b[1;33m)\u001b[0m\u001b[1;33m)\u001b[0m\u001b[1;33m\u001b[0m\u001b[1;33m\u001b[0m\u001b[0m\n\u001b[0;32m      4\u001b[0m \u001b[0mnormalized_for_plotting\u001b[0m\u001b[1;33m.\u001b[0m\u001b[0mplot\u001b[0m\u001b[1;33m(\u001b[0m\u001b[0mkind\u001b[0m\u001b[1;33m=\u001b[0m\u001b[1;34m'bar'\u001b[0m\u001b[1;33m,\u001b[0m\u001b[0mstacked\u001b[0m\u001b[1;33m=\u001b[0m\u001b[1;34m'True'\u001b[0m\u001b[1;33m,\u001b[0m\u001b[0max\u001b[0m\u001b[1;33m=\u001b[0m\u001b[0maxes\u001b[0m\u001b[1;33m[\u001b[0m\u001b[1;36m0\u001b[0m\u001b[1;33m]\u001b[0m\u001b[1;33m)\u001b[0m\u001b[1;33m\u001b[0m\u001b[1;33m\u001b[0m\u001b[0m\n\u001b[0;32m      5\u001b[0m \u001b[0maxes\u001b[0m\u001b[1;33m[\u001b[0m\u001b[1;36m0\u001b[0m\u001b[1;33m]\u001b[0m\u001b[1;33m.\u001b[0m\u001b[0mset_ylabel\u001b[0m\u001b[1;33m(\u001b[0m\u001b[1;34m'market share'\u001b[0m\u001b[1;33m)\u001b[0m\u001b[1;33m\u001b[0m\u001b[1;33m\u001b[0m\u001b[0m\n",
      "\u001b[1;31mModuleNotFoundError\u001b[0m: No module named 'seaborn'"
     ]
    }
   ],
   "source": [
    "import seaborn as sns\n",
    "normalized_for_plotting = most_listed_monthly_average.div(most_listed_monthly_average.sum(axis=1), axis=0)\n",
    "fig, axes = plt.subplots(1,2,figsize=(25,10))\n",
    "normalized_for_plotting.plot(kind='bar',stacked='True',ax=axes[0])\n",
    "axes[0].set_ylabel('market share')\n",
    "\n",
    "most_listed_daily_average.sum(axis=1).plot(kind='line',ax=axes[1],label='Total')\n",
    "most_listed_daily_average.plot(kind='line',ax=axes[1])\n",
    "axes[1].set_ylim((0,500))\n",
    "axes[1].set_ylabel('Number of Listings')\n",
    "axes[1].set_xlabel('Date')\n"
   ]
  },
  {
   "cell_type": "markdown",
   "metadata": {},
   "source": [
    "# Notes:\n",
    "* Normalize market share to total listings\n",
    "* make line plot with daily data\n",
    "* add a 'others' category\n",
    "\n",
    "# Other possible questions:\n",
    "* number of unique Artikelnummern per manufacturer over time \n",
    "* are there dates at which manufacturers tend to release new guitars?\n",
    "* Segment manufacturers bynumber of listings, average price, price range, sales rank?"
   ]
  },
  {
   "cell_type": "code",
   "execution_count": null,
   "metadata": {},
   "outputs": [],
   "source": [
    "import os\n",
    "os.getcwd()"
   ]
  },
  {
   "cell_type": "code",
   "execution_count": null,
   "metadata": {},
   "outputs": [],
   "source": [
    "from datetime import datetime\n",
    "import matplotlib.pyplot as plt\n",
    "from guitar_scraping.questions import day_data\n",
    "df = day_data(datetime(2020,5,31).date())\n",
    "df.head()\n",
    "\n",
    "\n",
    "fig,axes = plt.subplots(1,2,figsize=(20,8))\n",
    "df.preis.plot(kind='hist',bins=50,ax=axes[0])\n",
    "axes[0].set_title('Price Distribution for Steel String Guitars')\n",
    "axes[1].set_xlabel(r\"Price in €\")\n",
    "\n",
    "my_price_range = df[df.preis < 1000]\n",
    "my_price_range.preis.plot.hist(ax=axes[1],bins=32)\n",
    "axes[1].set_title('Price Distribution in my Price Range')\n",
    "axes[1].set_xlabel(r\"Price in €\")"
   ]
  }
 ],
 "metadata": {
  "kernelspec": {
   "display_name": "Python 3",
   "language": "python",
   "name": "python3"
  },
  "language_info": {
   "codemirror_mode": {
    "name": "ipython",
    "version": 3
   },
   "file_extension": ".py",
   "mimetype": "text/x-python",
   "name": "python",
   "nbconvert_exporter": "python",
   "pygments_lexer": "ipython3",
   "version": "3.8.5"
  }
 },
 "nbformat": 4,
 "nbformat_minor": 4
}
