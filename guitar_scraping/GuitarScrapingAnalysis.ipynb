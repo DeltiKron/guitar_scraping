{
 "cells": [
  {
   "cell_type": "markdown",
   "metadata": {},
   "source": [
    "# Scraping Guitar Listings from Thomann\n",
    "\n",
    "I was interested on how prices for acoustic guitars vary between different brands and different sets of parameters like age of the model, wood type or guitar shape. Also an especially interesting question for me was how prices for the same instrument or similar categories change over time.\n",
    "\n",
    "As a first step towards getting a feel for the acoustic-steel string guitar market, I wrote a set of scripts to scrape data on different guitars from one of Europes largest online merchants for musical instruments: [Thomann](http://www.thomann.de).\n",
    "\n",
    "I used cron to run the scraper on a daily basis running from November 2019 to April 2020. With these four months of data I'll try to get a feel for the online guitar market at Thomann.\n",
    "\n",
    "The questions I want to answer are:\n",
    "\n",
    "1. Which Brands have the most guitars?\n",
    "2. Which Brands sell best?\n",
    "3. How much do prices for the same guitar change after the initial listing?\n",
    "\n",
    "## The Data\n",
    "As a first step I will only be concentrating on steel-string guitars as this is the kind of guitar I prefer playing and also the kind of guitar where I feel my own expertise is highest. \n",
    "\n",
    "I pulled most of the easily available data from the site, key features are:\n",
    "\n",
    " * Model name\n",
    " * Manufacturer\n",
    " * Price\n",
    " * Date the Guitar was first listed\n",
    " * Thomann internal sales rank\n",
    " * Characteristics such as wood types, number of frets, cutaway, built-in electronics etc.\n",
    " \n",
    "\n"
   ]
  },
  {
   "cell_type": "code",
   "execution_count": 1,
   "metadata": {},
   "outputs": [
    {
     "name": "stdout",
     "output_type": "stream",
     "text": [
      "/dat/schaffer/projects/guitar_scraping/guitar_scraping/../data/*/*.csv\n"
     ]
    },
    {
     "name": "stderr",
     "output_type": "stream",
     "text": [
      "/dat/schaffer/projects/guitar_scraping/guitar_scraping/../data/2020-01-23/folk_gitarren_chunk_001.csv:   0%|          | 0/1757 [00:00<?, ?it/s]/home/schaffer/anaconda3/envs/sdc/lib/python3.7/site-packages/pandas/core/frame.py:6692: FutureWarning: Sorting because non-concatenation axis is not aligned. A future version\n",
      "of pandas will change to not sort by default.\n",
      "\n",
      "To accept the future behavior, pass 'sort=False'.\n",
      "\n",
      "To retain the current behavior and silence the warning, pass 'sort=True'.\n",
      "\n",
      "  sort=sort)\n",
      "/dat/schaffer/projects/guitar_scraping/guitar_scraping/../data/2020-03-25/sonstige_westerngitarren_chunk_004.csv:  56%|█████▌    | 976/1757 [01:02<01:18,  9.92it/s]"
     ]
    },
    {
     "name": "stdout",
     "output_type": "stream",
     "text": [
      "error in /dat/schaffer/projects/guitar_scraping/guitar_scraping/../data/2020-03-25/sonstige_westerngitarren_chunk_005.csv\n",
      "'artikelnummer'\n"
     ]
    },
    {
     "name": "stderr",
     "output_type": "stream",
     "text": [
      "/dat/schaffer/projects/guitar_scraping/guitar_scraping/../data/2020-03-20/sonstige_westerngitarren_chunk_004.csv:  78%|███████▊  | 1369/1757 [01:48<00:43,  8.90it/s]"
     ]
    },
    {
     "name": "stdout",
     "output_type": "stream",
     "text": [
      "error in /dat/schaffer/projects/guitar_scraping/guitar_scraping/../data/2020-03-20/sonstige_westerngitarren_chunk_005.csv\n",
      "'artikelnummer'\n"
     ]
    },
    {
     "name": "stderr",
     "output_type": "stream",
     "text": [
      "/dat/schaffer/projects/guitar_scraping/guitar_scraping/../data/2020-03-22/sonstige_westerngitarren_chunk_004.csv:  82%|████████▏ | 1436/1757 [01:57<00:42,  7.52it/s]"
     ]
    },
    {
     "name": "stdout",
     "output_type": "stream",
     "text": [
      "error in /dat/schaffer/projects/guitar_scraping/guitar_scraping/../data/2020-03-22/sonstige_westerngitarren_chunk_005.csv\n",
      "'artikelnummer'\n"
     ]
    },
    {
     "name": "stderr",
     "output_type": "stream",
     "text": [
      "/dat/schaffer/projects/guitar_scraping/guitar_scraping/../data/2020-03-18/sonstige_westerngitarren_chunk_004.csv:  83%|████████▎ | 1450/1757 [01:59<00:41,  7.45it/s]"
     ]
    },
    {
     "name": "stdout",
     "output_type": "stream",
     "text": [
      "error in /dat/schaffer/projects/guitar_scraping/guitar_scraping/../data/2020-03-18/sonstige_westerngitarren_chunk_005.csv\n",
      "'artikelnummer'\n"
     ]
    },
    {
     "name": "stderr",
     "output_type": "stream",
     "text": [
      "/dat/schaffer/projects/guitar_scraping/guitar_scraping/../data/2020-02-23/sonstige_westerngitarren_chunk_004.csv:  89%|████████▊ | 1555/1757 [02:17<00:31,  6.44it/s]"
     ]
    },
    {
     "name": "stdout",
     "output_type": "stream",
     "text": [
      "error in /dat/schaffer/projects/guitar_scraping/guitar_scraping/../data/2020-02-23/sonstige_westerngitarren_chunk_005.csv\n",
      "'artikelnummer'\n"
     ]
    },
    {
     "name": "stderr",
     "output_type": "stream",
     "text": [
      "/dat/schaffer/projects/guitar_scraping/guitar_scraping/../data/2019-11-07/jumbo_gitarren_chunk_000.csv: 100%|██████████| 1757/1757 [02:55<00:00, 10.02it/s]          \n"
     ]
    }
   ],
   "source": [
    "from clean_data import get_cleaned_guitar_data\n",
    "df = get_cleaned_guitar_data()"
   ]
  },
  {
   "cell_type": "code",
   "execution_count": 88,
   "metadata": {},
   "outputs": [
    {
     "ename": "AttributeError",
     "evalue": "module 'pandas' has no attribute 'first_valid_index'",
     "output_type": "error",
     "traceback": [
      "\u001b[0;31m---------------------------------------------------------------------------\u001b[0m",
      "\u001b[0;31mAttributeError\u001b[0m                            Traceback (most recent call last)",
      "\u001b[0;32m<ipython-input-88-6cc3cf4b289e>\u001b[0m in \u001b[0;36m<module>\u001b[0;34m\u001b[0m\n\u001b[1;32m      9\u001b[0m \u001b[0;31m#pivoted.ffill().mean(axis=1).plot()\u001b[0m\u001b[0;34m\u001b[0m\u001b[0;34m\u001b[0m\u001b[0;34m\u001b[0m\u001b[0m\n\u001b[1;32m     10\u001b[0m \u001b[0msample\u001b[0m \u001b[0;34m=\u001b[0m \u001b[0mpivoted\u001b[0m\u001b[0;34m.\u001b[0m\u001b[0mffill\u001b[0m\u001b[0;34m(\u001b[0m\u001b[0;34m)\u001b[0m\u001b[0;34m.\u001b[0m\u001b[0miloc\u001b[0m\u001b[0;34m[\u001b[0m\u001b[0;34m:\u001b[0m\u001b[0;34m,\u001b[0m\u001b[0;36m2\u001b[0m\u001b[0;34m:\u001b[0m\u001b[0;34m:\u001b[0m\u001b[0;36m20\u001b[0m\u001b[0;34m]\u001b[0m\u001b[0;34m\u001b[0m\u001b[0;34m\u001b[0m\u001b[0m\n\u001b[0;32m---> 11\u001b[0;31m \u001b[0mvalid_indexes\u001b[0m \u001b[0;34m=\u001b[0m \u001b[0msample\u001b[0m\u001b[0;34m.\u001b[0m\u001b[0mapply\u001b[0m\u001b[0;34m(\u001b[0m\u001b[0mpd\u001b[0m\u001b[0;34m.\u001b[0m\u001b[0mfirst_valid_index\u001b[0m\u001b[0;34m(\u001b[0m\u001b[0;34m)\u001b[0m\u001b[0;34m,\u001b[0m\u001b[0maxis\u001b[0m\u001b[0;34m=\u001b[0m\u001b[0;36m1\u001b[0m\u001b[0;34m)\u001b[0m\u001b[0;34m\u001b[0m\u001b[0;34m\u001b[0m\u001b[0m\n\u001b[0m\u001b[1;32m     12\u001b[0m \u001b[0mprint\u001b[0m\u001b[0;34m(\u001b[0m\u001b[0mvalid_indexes\u001b[0m\u001b[0;34m)\u001b[0m\u001b[0;34m\u001b[0m\u001b[0;34m\u001b[0m\u001b[0m\n\u001b[1;32m     13\u001b[0m \u001b[0mstarting_prices\u001b[0m \u001b[0;34m=\u001b[0m \u001b[0;36m1\u001b[0m\u001b[0;34m\u001b[0m\u001b[0;34m\u001b[0m\u001b[0m\n",
      "\u001b[0;31mAttributeError\u001b[0m: module 'pandas' has no attribute 'first_valid_index'"
     ]
    },
    {
     "data": {
      "image/png": "[encoded data removed]",
      "text/plain": [
       "<Figure size 864x720 with 1 Axes>"
      ]
     },
     "metadata": {
      "needs_background": "light"
     },
     "output_type": "display_data"
    }
   ],
   "source": [
    "df.head()\n",
    "\n",
    "dynamics = df.reset_index()[['date','preis','verkaufsrang','modell']]\n",
    "dynamics.head()\n",
    "pivoted= dynamics.pivot_table(index='date',columns='modell',values='preis')\n",
    "\n",
    "f = plt.figure(figsize=(12,10))\n",
    "ax = f.subplots(1)\n",
    "#pivoted.ffill().mean(axis=1).plot()\n",
    "sample = pivoted.ffill().iloc[:,2::20]\n",
    "valid_indexes = sample.apply(pd.first_valid_index(),axis=1)\n",
    "print(valid_indexes)\n",
    "starting_prices = 1\n",
    "sample_normalized = sample/sample.max()-1\n",
    "sample_normalized.plot(ax=ax,legend=None)\n",
    "plt.ylim(-1,1)\n",
    "line = plt.axvline('2019-12-24') \n",
    "\n"
   ]
  },
  {
   "cell_type": "markdown",
   "metadata": {},
   "source": [
    "## Brand Analysis\n",
    "I want to analyze the different brands, this implies that I should create a new Dataframe orientd on the different brands. The columns I want are:\n",
    "\n",
    "1. Brand name\n",
    "2. Number of models listed\n",
    "3. Price of cheapest guitar\n",
    "4. Price of most expensive guitar\n",
    "5. Average guitar price\n",
    "6. Number of new models for the time period\n",
    "7. Average sales rank for manufacturer"
   ]
  },
  {
   "cell_type": "code",
   "execution_count": 15,
   "metadata": {},
   "outputs": [
    {
     "data": {
      "text/html": [
       "<div>\n",
       "<style scoped>\n",
       "    .dataframe tbody tr th:only-of-type {\n",
       "        vertical-align: middle;\n",
       "    }\n",
       "\n",
       "    .dataframe tbody tr th {\n",
       "        vertical-align: top;\n",
       "    }\n",
       "\n",
       "    .dataframe thead th {\n",
       "        text-align: right;\n",
       "    }\n",
       "</style>\n",
       "<table border=\"1\" class=\"dataframe\">\n",
       "  <thead>\n",
       "    <tr style=\"text-align: right;\">\n",
       "      <th></th>\n",
       "      <th>models_listed</th>\n",
       "      <th>cheapest</th>\n",
       "      <th>mean_price</th>\n",
       "      <th>median_price</th>\n",
       "      <th>most_expensive</th>\n",
       "      <th>best_sales_rank</th>\n",
       "      <th>average_sales_rank</th>\n",
       "    </tr>\n",
       "  </thead>\n",
       "  <tbody>\n",
       "    <tr>\n",
       "      <th>VGS</th>\n",
       "      <td>1</td>\n",
       "      <td>398.0</td>\n",
       "      <td>398.000000</td>\n",
       "      <td>398.0</td>\n",
       "      <td>398.0</td>\n",
       "      <td>32946</td>\n",
       "      <td>32946.000000</td>\n",
       "    </tr>\n",
       "    <tr>\n",
       "      <th>Harley Benton</th>\n",
       "      <td>151</td>\n",
       "      <td>55.0</td>\n",
       "      <td>159.298013</td>\n",
       "      <td>125.0</td>\n",
       "      <td>479.0</td>\n",
       "      <td>71</td>\n",
       "      <td>33790.437086</td>\n",
       "    </tr>\n",
       "    <tr>\n",
       "      <th>Brümmer</th>\n",
       "      <td>2</td>\n",
       "      <td>159.0</td>\n",
       "      <td>179.000000</td>\n",
       "      <td>179.0</td>\n",
       "      <td>199.0</td>\n",
       "      <td>34342</td>\n",
       "      <td>38815.000000</td>\n",
       "    </tr>\n",
       "    <tr>\n",
       "      <th>Fender</th>\n",
       "      <td>139</td>\n",
       "      <td>98.0</td>\n",
       "      <td>365.345324</td>\n",
       "      <td>259.0</td>\n",
       "      <td>3798.0</td>\n",
       "      <td>2278</td>\n",
       "      <td>41988.597122</td>\n",
       "    </tr>\n",
       "    <tr>\n",
       "      <th>LAG</th>\n",
       "      <td>6</td>\n",
       "      <td>509.0</td>\n",
       "      <td>900.333333</td>\n",
       "      <td>774.0</td>\n",
       "      <td>1498.0</td>\n",
       "      <td>8314</td>\n",
       "      <td>42467.000000</td>\n",
       "    </tr>\n",
       "  </tbody>\n",
       "</table>\n",
       "</div>"
      ],
      "text/plain": [
       "               models_listed  cheapest  mean_price  median_price  \\\n",
       "VGS                        1     398.0  398.000000         398.0   \n",
       "Harley Benton            151      55.0  159.298013         125.0   \n",
       "Brümmer                    2     159.0  179.000000         179.0   \n",
       "Fender                   139      98.0  365.345324         259.0   \n",
       "LAG                        6     509.0  900.333333         774.0   \n",
       "\n",
       "               most_expensive  best_sales_rank  average_sales_rank  \n",
       "VGS                     398.0            32946        32946.000000  \n",
       "Harley Benton           479.0               71        33790.437086  \n",
       "Brümmer                 199.0            34342        38815.000000  \n",
       "Fender                 3798.0             2278        41988.597122  \n",
       "LAG                    1498.0             8314        42467.000000  "
      ]
     },
     "execution_count": 15,
     "metadata": {},
     "output_type": "execute_result"
    }
   ],
   "source": [
    "import matplotlib.pyplot as plt\n",
    "import pandas as pd\n",
    "\n",
    "models_per_manufacturer = df.groupby('modell')['hersteller'].first().value_counts()\n",
    "price_per_manufacturer = df.groupby('modell')[['hersteller','preis']].first().groupby('hersteller')['preis']\n",
    "\n",
    "rank_per_manufacturer = df.groupby('modell')[['hersteller','verkaufsrang']].first().groupby('hersteller')['verkaufsrang']\n",
    "\n",
    "manufacturer_dict = dict(\n",
    "    models_listed=models_per_manufacturer,\n",
    "    cheapest = price_per_manufacturer.min(),\n",
    "    mean_price=price_per_manufacturer.mean(),\n",
    "    median_price=price_per_manufacturer.median(),\n",
    "    most_expensive=price_per_manufacturer.max(),\n",
    "    best_sales_rank=rank_per_manufacturer.min(),\n",
    "    average_sales_rank=rank_per_manufacturer.mean(),\n",
    ")\n",
    "\n",
    "manufacturer_stats = pd.DataFrame(manufacturer_dict)\n",
    "# models_per_manufacturer.tail(20)\n",
    "manufacturer_stats.sort_values('average_sales_rank').head()"
   ]
  },
  {
   "cell_type": "code",
   "execution_count": 6,
   "metadata": {},
   "outputs": [
    {
     "data": {
      "text/html": [
       "<div>\n",
       "<style scoped>\n",
       "    .dataframe tbody tr th:only-of-type {\n",
       "        vertical-align: middle;\n",
       "    }\n",
       "\n",
       "    .dataframe tbody tr th {\n",
       "        vertical-align: top;\n",
       "    }\n",
       "\n",
       "    .dataframe thead th {\n",
       "        text-align: right;\n",
       "    }\n",
       "</style>\n",
       "<table border=\"1\" class=\"dataframe\">\n",
       "  <thead>\n",
       "    <tr style=\"text-align: right;\">\n",
       "      <th></th>\n",
       "      <th>mean_price</th>\n",
       "      <th>median_price</th>\n",
       "      <th>models_listed</th>\n",
       "    </tr>\n",
       "  </thead>\n",
       "  <tbody>\n",
       "    <tr>\n",
       "      <th>Art &amp; Lutherie</th>\n",
       "      <td>617.640000</td>\n",
       "      <td>639.0</td>\n",
       "      <td>25</td>\n",
       "    </tr>\n",
       "    <tr>\n",
       "      <th>Baton Rouge</th>\n",
       "      <td>313.441860</td>\n",
       "      <td>329.0</td>\n",
       "      <td>43</td>\n",
       "    </tr>\n",
       "    <tr>\n",
       "      <th>Breedlove</th>\n",
       "      <td>4465.333333</td>\n",
       "      <td>3999.0</td>\n",
       "      <td>3</td>\n",
       "    </tr>\n",
       "    <tr>\n",
       "      <th>Brümmer</th>\n",
       "      <td>179.000000</td>\n",
       "      <td>179.0</td>\n",
       "      <td>2</td>\n",
       "    </tr>\n",
       "    <tr>\n",
       "      <th>Cole Clark</th>\n",
       "      <td>2274.625000</td>\n",
       "      <td>2310.0</td>\n",
       "      <td>16</td>\n",
       "    </tr>\n",
       "  </tbody>\n",
       "</table>\n",
       "</div>"
      ],
      "text/plain": [
       "                 mean_price  median_price  models_listed\n",
       "Art & Lutherie   617.640000         639.0             25\n",
       "Baton Rouge      313.441860         329.0             43\n",
       "Breedlove       4465.333333        3999.0              3\n",
       "Brümmer          179.000000         179.0              2\n",
       "Cole Clark      2274.625000        2310.0             16"
      ]
     },
     "execution_count": 6,
     "metadata": {},
     "output_type": "execute_result"
    }
   ],
   "source": []
  }
 ],
 "metadata": {
  "kernelspec": {
   "display_name": "sdc",
   "language": "python",
   "name": "sdc"
  },
  "language_info": {
   "codemirror_mode": {
    "name": "ipython",
    "version": 3
   },
   "file_extension": ".py",
   "mimetype": "text/x-python",
   "name": "python",
   "nbconvert_exporter": "python",
   "pygments_lexer": "ipython3",
   "version": "3.7.3"
  }
 },
 "nbformat": 4,
 "nbformat_minor": 2
}
